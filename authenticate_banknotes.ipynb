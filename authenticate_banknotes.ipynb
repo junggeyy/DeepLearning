{
  "cells": [
    {
      "cell_type": "markdown",
      "metadata": {
        "id": "view-in-github",
        "colab_type": "text"
      },
      "source": [
        "<a href=\"https://colab.research.google.com/github/junggeyy/DeepLearning/blob/main/authenticate_banknotes.ipynb\" target=\"_parent\"><img src=\"https://colab.research.google.com/assets/colab-badge.svg\" alt=\"Open In Colab\"/></a>"
      ]
    },
    {
      "cell_type": "markdown",
      "id": "29dc571a-e16a-47fa-b456-c4d9367b87a5",
      "metadata": {
        "id": "29dc571a-e16a-47fa-b456-c4d9367b87a5"
      },
      "source": [
        "# Banknote Authentication"
      ]
    },
    {
      "cell_type": "markdown",
      "id": "48f20142-5f08-4b33-a4e5-ec1315c5a8ff",
      "metadata": {
        "id": "48f20142-5f08-4b33-a4e5-ec1315c5a8ff"
      },
      "source": [
        "Here, I have applied logistic regression to a banknote authentication dataset to distinguish between genuine and forged bank notes.\n",
        "\n",
        "\n",
        "The dataset consists of 1372 examples and 4 features for binary classification. The features are:\n",
        "\n",
        "1. variance of a wavelet-transformed image (continuous)\n",
        "2. skewness of a wavelet-transformed image (continuous)\n",
        "3. kurtosis of a wavelet-transformed image (continuous)\n",
        "4. entropy of the image (continuous)\n",
        "\n",
        "(More details about this dataset [here](https://archive.ics.uci.edu/ml/datasets/banknote+authentication))\n"
      ]
    },
    {
      "cell_type": "markdown",
      "id": "5649ce4a-7db3-4716-9fd1-d2db9af5f834",
      "metadata": {
        "id": "5649ce4a-7db3-4716-9fd1-d2db9af5f834"
      },
      "source": [
        "## 1) Installing Libraries"
      ]
    },
    {
      "cell_type": "code",
      "execution_count": null,
      "id": "ac7e723b-08af-4274-8925-bda4ef60f91a",
      "metadata": {
        "id": "ac7e723b-08af-4274-8925-bda4ef60f91a"
      },
      "outputs": [],
      "source": [
        "# !conda install numpy pandas matplotlib --yes"
      ]
    },
    {
      "cell_type": "code",
      "execution_count": null,
      "id": "ee966b7b-27cb-4484-b256-8d79f55dc48a",
      "metadata": {
        "id": "ee966b7b-27cb-4484-b256-8d79f55dc48a"
      },
      "outputs": [],
      "source": [
        "# !pip install torch"
      ]
    },
    {
      "cell_type": "markdown",
      "id": "157c6970-2b47-49a1-ba50-59bf738526ce",
      "metadata": {
        "tags": [],
        "id": "157c6970-2b47-49a1-ba50-59bf738526ce"
      },
      "source": [
        "## 2) Loading the Dataset"
      ]
    },
    {
      "cell_type": "code",
      "execution_count": 2,
      "id": "ab70cfad-f8bb-4076-b22e-dffa4f8a48fa",
      "metadata": {
        "id": "ab70cfad-f8bb-4076-b22e-dffa4f8a48fa"
      },
      "outputs": [],
      "source": [
        "import pandas as pd"
      ]
    },
    {
      "cell_type": "code",
      "execution_count": 3,
      "id": "bb8965ae-5222-4541-a7c6-7a9aaa4d1033",
      "metadata": {
        "colab": {
          "base_uri": "https://localhost:8080/",
          "height": 206
        },
        "id": "bb8965ae-5222-4541-a7c6-7a9aaa4d1033",
        "outputId": "f79f7836-d44f-46a9-dca9-ee1e43d09adf"
      },
      "outputs": [
        {
          "output_type": "execute_result",
          "data": {
            "text/plain": [
              "         0       1       2        3  4\n",
              "0  3.62160  8.6661 -2.8073 -0.44699  0\n",
              "1  4.54590  8.1674 -2.4586 -1.46210  0\n",
              "2  3.86600 -2.6383  1.9242  0.10645  0\n",
              "3  3.45660  9.5228 -4.0112 -3.59440  0\n",
              "4  0.32924 -4.4552  4.5718 -0.98880  0"
            ],
            "text/html": [
              "\n",
              "  <div id=\"df-d7b23631-c339-4bbd-a169-9152046cc555\" class=\"colab-df-container\">\n",
              "    <div>\n",
              "<style scoped>\n",
              "    .dataframe tbody tr th:only-of-type {\n",
              "        vertical-align: middle;\n",
              "    }\n",
              "\n",
              "    .dataframe tbody tr th {\n",
              "        vertical-align: top;\n",
              "    }\n",
              "\n",
              "    .dataframe thead th {\n",
              "        text-align: right;\n",
              "    }\n",
              "</style>\n",
              "<table border=\"1\" class=\"dataframe\">\n",
              "  <thead>\n",
              "    <tr style=\"text-align: right;\">\n",
              "      <th></th>\n",
              "      <th>0</th>\n",
              "      <th>1</th>\n",
              "      <th>2</th>\n",
              "      <th>3</th>\n",
              "      <th>4</th>\n",
              "    </tr>\n",
              "  </thead>\n",
              "  <tbody>\n",
              "    <tr>\n",
              "      <th>0</th>\n",
              "      <td>3.62160</td>\n",
              "      <td>8.6661</td>\n",
              "      <td>-2.8073</td>\n",
              "      <td>-0.44699</td>\n",
              "      <td>0</td>\n",
              "    </tr>\n",
              "    <tr>\n",
              "      <th>1</th>\n",
              "      <td>4.54590</td>\n",
              "      <td>8.1674</td>\n",
              "      <td>-2.4586</td>\n",
              "      <td>-1.46210</td>\n",
              "      <td>0</td>\n",
              "    </tr>\n",
              "    <tr>\n",
              "      <th>2</th>\n",
              "      <td>3.86600</td>\n",
              "      <td>-2.6383</td>\n",
              "      <td>1.9242</td>\n",
              "      <td>0.10645</td>\n",
              "      <td>0</td>\n",
              "    </tr>\n",
              "    <tr>\n",
              "      <th>3</th>\n",
              "      <td>3.45660</td>\n",
              "      <td>9.5228</td>\n",
              "      <td>-4.0112</td>\n",
              "      <td>-3.59440</td>\n",
              "      <td>0</td>\n",
              "    </tr>\n",
              "    <tr>\n",
              "      <th>4</th>\n",
              "      <td>0.32924</td>\n",
              "      <td>-4.4552</td>\n",
              "      <td>4.5718</td>\n",
              "      <td>-0.98880</td>\n",
              "      <td>0</td>\n",
              "    </tr>\n",
              "  </tbody>\n",
              "</table>\n",
              "</div>\n",
              "    <div class=\"colab-df-buttons\">\n",
              "\n",
              "  <div class=\"colab-df-container\">\n",
              "    <button class=\"colab-df-convert\" onclick=\"convertToInteractive('df-d7b23631-c339-4bbd-a169-9152046cc555')\"\n",
              "            title=\"Convert this dataframe to an interactive table.\"\n",
              "            style=\"display:none;\">\n",
              "\n",
              "  <svg xmlns=\"http://www.w3.org/2000/svg\" height=\"24px\" viewBox=\"0 -960 960 960\">\n",
              "    <path d=\"M120-120v-720h720v720H120Zm60-500h600v-160H180v160Zm220 220h160v-160H400v160Zm0 220h160v-160H400v160ZM180-400h160v-160H180v160Zm440 0h160v-160H620v160ZM180-180h160v-160H180v160Zm440 0h160v-160H620v160Z\"/>\n",
              "  </svg>\n",
              "    </button>\n",
              "\n",
              "  <style>\n",
              "    .colab-df-container {\n",
              "      display:flex;\n",
              "      gap: 12px;\n",
              "    }\n",
              "\n",
              "    .colab-df-convert {\n",
              "      background-color: #E8F0FE;\n",
              "      border: none;\n",
              "      border-radius: 50%;\n",
              "      cursor: pointer;\n",
              "      display: none;\n",
              "      fill: #1967D2;\n",
              "      height: 32px;\n",
              "      padding: 0 0 0 0;\n",
              "      width: 32px;\n",
              "    }\n",
              "\n",
              "    .colab-df-convert:hover {\n",
              "      background-color: #E2EBFA;\n",
              "      box-shadow: 0px 1px 2px rgba(60, 64, 67, 0.3), 0px 1px 3px 1px rgba(60, 64, 67, 0.15);\n",
              "      fill: #174EA6;\n",
              "    }\n",
              "\n",
              "    .colab-df-buttons div {\n",
              "      margin-bottom: 4px;\n",
              "    }\n",
              "\n",
              "    [theme=dark] .colab-df-convert {\n",
              "      background-color: #3B4455;\n",
              "      fill: #D2E3FC;\n",
              "    }\n",
              "\n",
              "    [theme=dark] .colab-df-convert:hover {\n",
              "      background-color: #434B5C;\n",
              "      box-shadow: 0px 1px 3px 1px rgba(0, 0, 0, 0.15);\n",
              "      filter: drop-shadow(0px 1px 2px rgba(0, 0, 0, 0.3));\n",
              "      fill: #FFFFFF;\n",
              "    }\n",
              "  </style>\n",
              "\n",
              "    <script>\n",
              "      const buttonEl =\n",
              "        document.querySelector('#df-d7b23631-c339-4bbd-a169-9152046cc555 button.colab-df-convert');\n",
              "      buttonEl.style.display =\n",
              "        google.colab.kernel.accessAllowed ? 'block' : 'none';\n",
              "\n",
              "      async function convertToInteractive(key) {\n",
              "        const element = document.querySelector('#df-d7b23631-c339-4bbd-a169-9152046cc555');\n",
              "        const dataTable =\n",
              "          await google.colab.kernel.invokeFunction('convertToInteractive',\n",
              "                                                    [key], {});\n",
              "        if (!dataTable) return;\n",
              "\n",
              "        const docLinkHtml = 'Like what you see? Visit the ' +\n",
              "          '<a target=\"_blank\" href=https://colab.research.google.com/notebooks/data_table.ipynb>data table notebook</a>'\n",
              "          + ' to learn more about interactive tables.';\n",
              "        element.innerHTML = '';\n",
              "        dataTable['output_type'] = 'display_data';\n",
              "        await google.colab.output.renderOutput(dataTable, element);\n",
              "        const docLink = document.createElement('div');\n",
              "        docLink.innerHTML = docLinkHtml;\n",
              "        element.appendChild(docLink);\n",
              "      }\n",
              "    </script>\n",
              "  </div>\n",
              "\n",
              "\n",
              "    <div id=\"df-dad0cec8-b7f1-48a4-bdac-ba127a06462f\">\n",
              "      <button class=\"colab-df-quickchart\" onclick=\"quickchart('df-dad0cec8-b7f1-48a4-bdac-ba127a06462f')\"\n",
              "                title=\"Suggest charts\"\n",
              "                style=\"display:none;\">\n",
              "\n",
              "<svg xmlns=\"http://www.w3.org/2000/svg\" height=\"24px\"viewBox=\"0 0 24 24\"\n",
              "     width=\"24px\">\n",
              "    <g>\n",
              "        <path d=\"M19 3H5c-1.1 0-2 .9-2 2v14c0 1.1.9 2 2 2h14c1.1 0 2-.9 2-2V5c0-1.1-.9-2-2-2zM9 17H7v-7h2v7zm4 0h-2V7h2v10zm4 0h-2v-4h2v4z\"/>\n",
              "    </g>\n",
              "</svg>\n",
              "      </button>\n",
              "\n",
              "<style>\n",
              "  .colab-df-quickchart {\n",
              "      --bg-color: #E8F0FE;\n",
              "      --fill-color: #1967D2;\n",
              "      --hover-bg-color: #E2EBFA;\n",
              "      --hover-fill-color: #174EA6;\n",
              "      --disabled-fill-color: #AAA;\n",
              "      --disabled-bg-color: #DDD;\n",
              "  }\n",
              "\n",
              "  [theme=dark] .colab-df-quickchart {\n",
              "      --bg-color: #3B4455;\n",
              "      --fill-color: #D2E3FC;\n",
              "      --hover-bg-color: #434B5C;\n",
              "      --hover-fill-color: #FFFFFF;\n",
              "      --disabled-bg-color: #3B4455;\n",
              "      --disabled-fill-color: #666;\n",
              "  }\n",
              "\n",
              "  .colab-df-quickchart {\n",
              "    background-color: var(--bg-color);\n",
              "    border: none;\n",
              "    border-radius: 50%;\n",
              "    cursor: pointer;\n",
              "    display: none;\n",
              "    fill: var(--fill-color);\n",
              "    height: 32px;\n",
              "    padding: 0;\n",
              "    width: 32px;\n",
              "  }\n",
              "\n",
              "  .colab-df-quickchart:hover {\n",
              "    background-color: var(--hover-bg-color);\n",
              "    box-shadow: 0 1px 2px rgba(60, 64, 67, 0.3), 0 1px 3px 1px rgba(60, 64, 67, 0.15);\n",
              "    fill: var(--button-hover-fill-color);\n",
              "  }\n",
              "\n",
              "  .colab-df-quickchart-complete:disabled,\n",
              "  .colab-df-quickchart-complete:disabled:hover {\n",
              "    background-color: var(--disabled-bg-color);\n",
              "    fill: var(--disabled-fill-color);\n",
              "    box-shadow: none;\n",
              "  }\n",
              "\n",
              "  .colab-df-spinner {\n",
              "    border: 2px solid var(--fill-color);\n",
              "    border-color: transparent;\n",
              "    border-bottom-color: var(--fill-color);\n",
              "    animation:\n",
              "      spin 1s steps(1) infinite;\n",
              "  }\n",
              "\n",
              "  @keyframes spin {\n",
              "    0% {\n",
              "      border-color: transparent;\n",
              "      border-bottom-color: var(--fill-color);\n",
              "      border-left-color: var(--fill-color);\n",
              "    }\n",
              "    20% {\n",
              "      border-color: transparent;\n",
              "      border-left-color: var(--fill-color);\n",
              "      border-top-color: var(--fill-color);\n",
              "    }\n",
              "    30% {\n",
              "      border-color: transparent;\n",
              "      border-left-color: var(--fill-color);\n",
              "      border-top-color: var(--fill-color);\n",
              "      border-right-color: var(--fill-color);\n",
              "    }\n",
              "    40% {\n",
              "      border-color: transparent;\n",
              "      border-right-color: var(--fill-color);\n",
              "      border-top-color: var(--fill-color);\n",
              "    }\n",
              "    60% {\n",
              "      border-color: transparent;\n",
              "      border-right-color: var(--fill-color);\n",
              "    }\n",
              "    80% {\n",
              "      border-color: transparent;\n",
              "      border-right-color: var(--fill-color);\n",
              "      border-bottom-color: var(--fill-color);\n",
              "    }\n",
              "    90% {\n",
              "      border-color: transparent;\n",
              "      border-bottom-color: var(--fill-color);\n",
              "    }\n",
              "  }\n",
              "</style>\n",
              "\n",
              "      <script>\n",
              "        async function quickchart(key) {\n",
              "          const quickchartButtonEl =\n",
              "            document.querySelector('#' + key + ' button');\n",
              "          quickchartButtonEl.disabled = true;  // To prevent multiple clicks.\n",
              "          quickchartButtonEl.classList.add('colab-df-spinner');\n",
              "          try {\n",
              "            const charts = await google.colab.kernel.invokeFunction(\n",
              "                'suggestCharts', [key], {});\n",
              "          } catch (error) {\n",
              "            console.error('Error during call to suggestCharts:', error);\n",
              "          }\n",
              "          quickchartButtonEl.classList.remove('colab-df-spinner');\n",
              "          quickchartButtonEl.classList.add('colab-df-quickchart-complete');\n",
              "        }\n",
              "        (() => {\n",
              "          let quickchartButtonEl =\n",
              "            document.querySelector('#df-dad0cec8-b7f1-48a4-bdac-ba127a06462f button');\n",
              "          quickchartButtonEl.style.display =\n",
              "            google.colab.kernel.accessAllowed ? 'block' : 'none';\n",
              "        })();\n",
              "      </script>\n",
              "    </div>\n",
              "\n",
              "    </div>\n",
              "  </div>\n"
            ],
            "application/vnd.google.colaboratory.intrinsic+json": {
              "type": "dataframe",
              "variable_name": "df",
              "summary": "{\n  \"name\": \"df\",\n  \"rows\": 1372,\n  \"fields\": [\n    {\n      \"column\": 0,\n      \"properties\": {\n        \"dtype\": \"number\",\n        \"std\": 2.842762586278562,\n        \"min\": -7.0421,\n        \"max\": 6.8248,\n        \"num_unique_values\": 1338,\n        \"samples\": [\n          -2.286,\n          -0.539,\n          0.89512\n        ],\n        \"semantic_type\": \"\",\n        \"description\": \"\"\n      }\n    },\n    {\n      \"column\": 1,\n      \"properties\": {\n        \"dtype\": \"number\",\n        \"std\": 5.869046743695522,\n        \"min\": -13.7731,\n        \"max\": 12.9516,\n        \"num_unique_values\": 1256,\n        \"samples\": [\n          11.2217,\n          -4.6145,\n          6.1499\n        ],\n        \"semantic_type\": \"\",\n        \"description\": \"\"\n      }\n    },\n    {\n      \"column\": 2,\n      \"properties\": {\n        \"dtype\": \"number\",\n        \"std\": 4.310030090106595,\n        \"min\": -5.2861,\n        \"max\": 17.9274,\n        \"num_unique_values\": 1270,\n        \"samples\": [\n          7.8981,\n          9.8208,\n          0.20021\n        ],\n        \"semantic_type\": \"\",\n        \"description\": \"\"\n      }\n    },\n    {\n      \"column\": 3,\n      \"properties\": {\n        \"dtype\": \"number\",\n        \"std\": 2.1010131373596095,\n        \"min\": -8.5482,\n        \"max\": 2.4495,\n        \"num_unique_values\": 1156,\n        \"samples\": [\n          1.0271,\n          0.90946,\n          -0.026738\n        ],\n        \"semantic_type\": \"\",\n        \"description\": \"\"\n      }\n    },\n    {\n      \"column\": 4,\n      \"properties\": {\n        \"dtype\": \"number\",\n        \"std\": 0,\n        \"min\": 0,\n        \"max\": 1,\n        \"num_unique_values\": 2,\n        \"samples\": [\n          1,\n          0\n        ],\n        \"semantic_type\": \"\",\n        \"description\": \"\"\n      }\n    }\n  ]\n}"
            }
          },
          "metadata": {},
          "execution_count": 3
        }
      ],
      "source": [
        "df = pd.read_csv(\"data_banknote_authentication.txt\", header=None)\n",
        "df.head()"
      ]
    },
    {
      "cell_type": "code",
      "execution_count": 4,
      "id": "860304f1-1b8c-4993-b547-20e2dcceb03b",
      "metadata": {
        "id": "860304f1-1b8c-4993-b547-20e2dcceb03b"
      },
      "outputs": [],
      "source": [
        "X_features = df[[0, 1, 2, 3]].values\n",
        "y_labels = df[4].values"
      ]
    },
    {
      "cell_type": "markdown",
      "id": "a4d2ebb2-d83f-4729-85ed-9437e105b9b8",
      "metadata": {
        "id": "a4d2ebb2-d83f-4729-85ed-9437e105b9b8"
      },
      "source": [
        "Number of examples and features\n",
        "<br>We have 1372 examples with 4 features each"
      ]
    },
    {
      "cell_type": "code",
      "execution_count": 5,
      "id": "6f342b22-0fde-436a-a121-00e9ce627512",
      "metadata": {
        "colab": {
          "base_uri": "https://localhost:8080/"
        },
        "id": "6f342b22-0fde-436a-a121-00e9ce627512",
        "outputId": "57340e4a-40cd-4b08-d1cd-c5e45b7bd31f"
      },
      "outputs": [
        {
          "output_type": "execute_result",
          "data": {
            "text/plain": [
              "(1372, 4)"
            ]
          },
          "metadata": {},
          "execution_count": 5
        }
      ],
      "source": [
        "X_features.shape"
      ]
    },
    {
      "cell_type": "markdown",
      "id": "7c8e94b9-4847-4833-a7d1-afee3c18991a",
      "metadata": {
        "id": "7c8e94b9-4847-4833-a7d1-afee3c18991a"
      },
      "source": [
        "Label distribution<br>\n",
        "We have 762 labels of class label 0 and 610 of class label 1"
      ]
    },
    {
      "cell_type": "code",
      "execution_count": 6,
      "id": "1e8247a8-101d-4195-84d3-12b6593c0099",
      "metadata": {
        "colab": {
          "base_uri": "https://localhost:8080/"
        },
        "id": "1e8247a8-101d-4195-84d3-12b6593c0099",
        "outputId": "1e2a15ab-c520-4258-adaa-41ad1e7cbb5d"
      },
      "outputs": [
        {
          "output_type": "execute_result",
          "data": {
            "text/plain": [
              "array([762, 610])"
            ]
          },
          "metadata": {},
          "execution_count": 6
        }
      ],
      "source": [
        "import numpy as np\n",
        "\n",
        "np.bincount(y_labels)"
      ]
    },
    {
      "cell_type": "markdown",
      "id": "6f7e7578-c57d-4aae-99fc-77603e202185",
      "metadata": {
        "id": "6f7e7578-c57d-4aae-99fc-77603e202185"
      },
      "source": [
        "## 3) Defining a DataLoader"
      ]
    },
    {
      "cell_type": "code",
      "execution_count": 7,
      "id": "fa4ba92f-f294-4572-8aa2-d2fa50788a9d",
      "metadata": {
        "id": "fa4ba92f-f294-4572-8aa2-d2fa50788a9d"
      },
      "outputs": [],
      "source": [
        "from torch.utils.data import Dataset, DataLoader\n",
        "\n",
        "\n",
        "class MyDataset(Dataset):\n",
        "    def __init__(self, X, y):\n",
        "        self.features = torch.tensor(X, dtype=torch.float32)\n",
        "        self.labels = torch.tensor(y, dtype=torch.float32)\n",
        "\n",
        "    def __getitem__(self, index):\n",
        "        x = self.features[index]\n",
        "        y = self.labels[index]\n",
        "        return x, y\n",
        "\n",
        "    def __len__(self):\n",
        "        return self.labels.shape[0]"
      ]
    },
    {
      "cell_type": "markdown",
      "id": "e2096f23-539a-40e0-affa-db0ffcd0f371",
      "metadata": {
        "id": "e2096f23-539a-40e0-affa-db0ffcd0f371"
      },
      "source": [
        "We will be using 80% of the data for training, 20% of the data for validation. (no explicit test set)"
      ]
    },
    {
      "cell_type": "code",
      "execution_count": 9,
      "id": "f8bbd768-c15c-40f5-8500-83fad5bb1722",
      "metadata": {
        "colab": {
          "base_uri": "https://localhost:8080/"
        },
        "id": "f8bbd768-c15c-40f5-8500-83fad5bb1722",
        "outputId": "a11577ac-e8be-4bd9-82d2-8627e01ef55c"
      },
      "outputs": [
        {
          "output_type": "execute_result",
          "data": {
            "text/plain": [
              "1097"
            ]
          },
          "metadata": {},
          "execution_count": 9
        }
      ],
      "source": [
        "train_size = int(X_features.shape[0]*0.80)\n",
        "train_size"
      ]
    },
    {
      "cell_type": "code",
      "execution_count": 10,
      "id": "0b09d3d5-f4f7-47df-8160-8d883c0c5e19",
      "metadata": {
        "colab": {
          "base_uri": "https://localhost:8080/"
        },
        "id": "0b09d3d5-f4f7-47df-8160-8d883c0c5e19",
        "outputId": "02c72500-fb6c-4c9f-c4c0-0ca12b27c60f"
      },
      "outputs": [
        {
          "output_type": "execute_result",
          "data": {
            "text/plain": [
              "275"
            ]
          },
          "metadata": {},
          "execution_count": 10
        }
      ],
      "source": [
        "val_size = X_features.shape[0] - train_size\n",
        "val_size"
      ]
    },
    {
      "cell_type": "markdown",
      "id": "3e21d88e-1408-4457-a7fd-3306a9fac5a6",
      "metadata": {
        "id": "3e21d88e-1408-4457-a7fd-3306a9fac5a6"
      },
      "source": [
        "Using `torch.utils.data.random_split`, we generate the training and validation sets along with the respective data loaders:"
      ]
    },
    {
      "cell_type": "code",
      "execution_count": 12,
      "id": "22a0e19a-de40-4309-b197-368a781a5633",
      "metadata": {
        "id": "22a0e19a-de40-4309-b197-368a781a5633"
      },
      "outputs": [],
      "source": [
        "import torch\n",
        "\n",
        "dataset = MyDataset(X_features, y_labels)\n",
        "\n",
        "torch.manual_seed(1)\n",
        "train_set, val_set = torch.utils.data.random_split(dataset, [train_size, val_size])\n",
        "\n",
        "train_loader = DataLoader(\n",
        "    dataset=train_set,\n",
        "    batch_size=10,\n",
        "    shuffle=True,\n",
        ")\n",
        "\n",
        "val_loader = DataLoader(\n",
        "    dataset=val_set,\n",
        "    batch_size=10,\n",
        "    shuffle=False,\n",
        ")"
      ]
    },
    {
      "cell_type": "markdown",
      "id": "e3a0b2f5-66f5-45e5-9b0a-f4960fc40388",
      "metadata": {
        "id": "e3a0b2f5-66f5-45e5-9b0a-f4960fc40388"
      },
      "source": [
        "## 4) Implementing the model"
      ]
    },
    {
      "cell_type": "code",
      "execution_count": 13,
      "id": "3da86d9a-7cd5-467c-bf65-3388fe272bd5",
      "metadata": {
        "id": "3da86d9a-7cd5-467c-bf65-3388fe272bd5"
      },
      "outputs": [],
      "source": [
        "import torch\n",
        "\n",
        "class LogisticRegression(torch.nn.Module):\n",
        "\n",
        "    def __init__(self, num_features):\n",
        "        super().__init__()\n",
        "        self.linear = torch.nn.Linear(in_features=num_features, out_features=1)\n",
        "\n",
        "    def forward(self, x):\n",
        "        logits = self.linear(x)\n",
        "        probas = torch.sigmoid(logits)\n",
        "        return probas"
      ]
    },
    {
      "cell_type": "markdown",
      "id": "c8340676-a3da-49cf-aeae-c0a3329734c5",
      "metadata": {
        "id": "c8340676-a3da-49cf-aeae-c0a3329734c5"
      },
      "source": [
        "## 5) The training loop"
      ]
    },
    {
      "cell_type": "code",
      "execution_count": 18,
      "id": "79c712f6-4e2a-43e9-8563-215f88beb4a8",
      "metadata": {
        "colab": {
          "base_uri": "https://localhost:8080/"
        },
        "id": "79c712f6-4e2a-43e9-8563-215f88beb4a8",
        "outputId": "4e52aad3-e1a4-43cc-9463-49ec7fe96fad"
      },
      "outputs": [
        {
          "output_type": "stream",
          "name": "stdout",
          "text": [
            "Epoch: 001/005 | Batch 000/110 | Loss: 1.30\n",
            "Epoch: 001/005 | Batch 020/110 | Loss: 0.27\n",
            "Epoch: 001/005 | Batch 040/110 | Loss: 0.36\n",
            "Epoch: 001/005 | Batch 060/110 | Loss: 0.12\n",
            "Epoch: 001/005 | Batch 080/110 | Loss: 0.07\n",
            "Epoch: 001/005 | Batch 100/110 | Loss: 0.09\n",
            "Epoch: 002/005 | Batch 000/110 | Loss: 0.19\n",
            "Epoch: 002/005 | Batch 020/110 | Loss: 0.08\n",
            "Epoch: 002/005 | Batch 040/110 | Loss: 0.21\n",
            "Epoch: 002/005 | Batch 060/110 | Loss: 0.09\n",
            "Epoch: 002/005 | Batch 080/110 | Loss: 0.09\n",
            "Epoch: 002/005 | Batch 100/110 | Loss: 0.10\n",
            "Epoch: 003/005 | Batch 000/110 | Loss: 0.05\n",
            "Epoch: 003/005 | Batch 020/110 | Loss: 0.11\n",
            "Epoch: 003/005 | Batch 040/110 | Loss: 0.07\n",
            "Epoch: 003/005 | Batch 060/110 | Loss: 0.24\n",
            "Epoch: 003/005 | Batch 080/110 | Loss: 0.07\n",
            "Epoch: 003/005 | Batch 100/110 | Loss: 0.03\n",
            "Epoch: 004/005 | Batch 000/110 | Loss: 0.05\n",
            "Epoch: 004/005 | Batch 020/110 | Loss: 0.02\n",
            "Epoch: 004/005 | Batch 040/110 | Loss: 0.11\n",
            "Epoch: 004/005 | Batch 060/110 | Loss: 0.07\n",
            "Epoch: 004/005 | Batch 080/110 | Loss: 0.02\n",
            "Epoch: 004/005 | Batch 100/110 | Loss: 0.06\n",
            "Epoch: 005/005 | Batch 000/110 | Loss: 0.13\n",
            "Epoch: 005/005 | Batch 020/110 | Loss: 0.08\n",
            "Epoch: 005/005 | Batch 040/110 | Loss: 0.03\n",
            "Epoch: 005/005 | Batch 060/110 | Loss: 0.12\n",
            "Epoch: 005/005 | Batch 080/110 | Loss: 0.07\n",
            "Epoch: 005/005 | Batch 100/110 | Loss: 0.08\n"
          ]
        }
      ],
      "source": [
        "import torch.nn.functional as F\n",
        "\n",
        "\n",
        "torch.manual_seed(1)\n",
        "model = LogisticRegression(num_features=4)\n",
        "optimizer = torch.optim.SGD(model.parameters(), lr=0.05)\n",
        "\n",
        "num_epochs = 5\n",
        "\n",
        "for epoch in range(num_epochs):\n",
        "\n",
        "    model = model.train()\n",
        "    for batch_idx, (features, class_labels) in enumerate(train_loader):\n",
        "\n",
        "        probas = model(features)\n",
        "\n",
        "        loss = F.binary_cross_entropy(probas, class_labels.view(probas.shape))\n",
        "\n",
        "        optimizer.zero_grad()\n",
        "        loss.backward()\n",
        "        optimizer.step()\n",
        "\n",
        "        ### LOGGING\n",
        "        if not batch_idx % 20: # log every 20th batch\n",
        "            print(f'Epoch: {epoch+1:03d}/{num_epochs:03d}'\n",
        "                   f' | Batch {batch_idx:03d}/{len(train_loader):03d}'\n",
        "                   f' | Loss: {loss:.2f}')"
      ]
    },
    {
      "cell_type": "markdown",
      "id": "41396cca-8920-4edd-9075-588c03d81f01",
      "metadata": {
        "id": "41396cca-8920-4edd-9075-588c03d81f01"
      },
      "source": [
        "## 6) Evaluating the results"
      ]
    },
    {
      "cell_type": "code",
      "execution_count": 19,
      "id": "4b6473aa-98ac-4ffe-84b5-cb5a2d511018",
      "metadata": {
        "id": "4b6473aa-98ac-4ffe-84b5-cb5a2d511018"
      },
      "outputs": [],
      "source": [
        "def compute_accuracy(model, dataloader):\n",
        "\n",
        "    model = model.eval()\n",
        "\n",
        "    correct = 0.0\n",
        "    total_examples = 0\n",
        "\n",
        "    for idx, (features, class_labels) in enumerate(dataloader):\n",
        "\n",
        "        with torch.no_grad():\n",
        "            probas = model(features)\n",
        "\n",
        "        pred = torch.where(probas > 0.5, 1, 0)\n",
        "        lab = class_labels.view(pred.shape).to(pred.dtype)\n",
        "\n",
        "        compare = lab == pred\n",
        "        correct += torch.sum(compare)\n",
        "        total_examples += len(compare)\n",
        "\n",
        "    return correct / total_examples"
      ]
    },
    {
      "cell_type": "code",
      "execution_count": 23,
      "id": "70de800b-4138-49ac-b4cc-e89605b78a3d",
      "metadata": {
        "colab": {
          "base_uri": "https://localhost:8080/"
        },
        "id": "70de800b-4138-49ac-b4cc-e89605b78a3d",
        "outputId": "39e59739-3994-438b-ff85-fc933c49256c"
      },
      "outputs": [
        {
          "output_type": "stream",
          "name": "stdout",
          "text": [
            "Test Accuracy: 98.36%\n"
          ]
        }
      ],
      "source": [
        "train_acc = compute_accuracy(model, train_loader)\n",
        "print(f\"Test Accuracy: {train_acc*100:.2f}%\")"
      ]
    },
    {
      "cell_type": "code",
      "execution_count": 24,
      "id": "5b5a130b-a752-4ec4-9d3b-58fd20d0bc6e",
      "metadata": {
        "colab": {
          "base_uri": "https://localhost:8080/"
        },
        "id": "5b5a130b-a752-4ec4-9d3b-58fd20d0bc6e",
        "outputId": "ba8dad13-f215-4390-8a69-ab1a8db460f4"
      },
      "outputs": [
        {
          "output_type": "stream",
          "name": "stdout",
          "text": [
            "Validation Accuracy: 97.82%\n"
          ]
        }
      ],
      "source": [
        "val_acc = compute_accuracy(model, val_loader)\n",
        "print(f\"Validation Accuracy: {val_acc*100:.2f}%\")"
      ]
    }
  ],
  "metadata": {
    "kernelspec": {
      "display_name": "Python 3 (ipykernel)",
      "language": "python",
      "name": "python3"
    },
    "language_info": {
      "codemirror_mode": {
        "name": "ipython",
        "version": 3
      },
      "file_extension": ".py",
      "mimetype": "text/x-python",
      "name": "python",
      "nbconvert_exporter": "python",
      "pygments_lexer": "ipython3",
      "version": "3.9.7"
    },
    "colab": {
      "provenance": [],
      "include_colab_link": true
    }
  },
  "nbformat": 4,
  "nbformat_minor": 5
}