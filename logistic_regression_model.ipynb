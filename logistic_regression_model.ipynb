{
  "nbformat": 4,
  "nbformat_minor": 0,
  "metadata": {
    "colab": {
      "provenance": [],
      "authorship_tag": "ABX9TyNVUdyfdg24inq4pC14oV1y",
      "include_colab_link": true
    },
    "kernelspec": {
      "name": "python3",
      "display_name": "Python 3"
    },
    "language_info": {
      "name": "python"
    }
  },
  "cells": [
    {
      "cell_type": "markdown",
      "metadata": {
        "id": "view-in-github",
        "colab_type": "text"
      },
      "source": [
        "<a href=\"https://colab.research.google.com/github/junggeyy/DeepLearning/blob/main/logistic_regression_model.ipynb\" target=\"_parent\"><img src=\"https://colab.research.google.com/assets/colab-badge.svg\" alt=\"Open In Colab\"/></a>"
      ]
    },
    {
      "cell_type": "markdown",
      "source": [
        "## Implementing a Logistic Regression Classifier\n",
        "\n",
        "This notebook demonstrates the implementation of a Logistic Regression Classifier model using PyTorch. It covers loading and visualizing a dataset, building the classifier class, training the model, evaluating its accuracy, and visualizing the decision boundary."
      ],
      "metadata": {
        "id": "-DXjsX7_mMnc"
      }
    },
    {
      "cell_type": "markdown",
      "source": [
        "### Install Libraries"
      ],
      "metadata": {
        "id": "S4PTb5SbmQn9"
      }
    },
    {
      "cell_type": "code",
      "source": [
        "!pip install torch"
      ],
      "metadata": {
        "id": "8416dlClmXu4"
      },
      "execution_count": null,
      "outputs": []
    },
    {
      "cell_type": "markdown",
      "source": [
        "### 1. Loading the Dataset"
      ],
      "metadata": {
        "id": "keh37M51m7RX"
      }
    },
    {
      "cell_type": "code",
      "source": [
        "import pandas as pd\n",
        "\n",
        "df = pd.read_csv(\"perceptron_toydata.txt\", sep = \"\\t\", header=None)\n",
        "df"
      ],
      "metadata": {
        "colab": {
          "base_uri": "https://localhost:8080/",
          "height": 424
        },
        "id": "DwzYZQ6Tm9Q9",
        "outputId": "b5feff0a-e4c2-4dc4-ca3d-83fe4c382eed"
      },
      "execution_count": 2,
      "outputs": [
        {
          "output_type": "execute_result",
          "data": {
            "text/plain": [
              "       0     1  2\n",
              "0   0.77 -1.14  0\n",
              "1  -0.33  1.44  0\n",
              "2   0.91 -3.07  0\n",
              "3  -0.37 -1.91  0\n",
              "4  -1.84 -1.13  0\n",
              "..   ...   ... ..\n",
              "95  0.71  2.27  1\n",
              "96  1.96  0.83  1\n",
              "97  2.52  1.83  1\n",
              "98  2.77  2.82  1\n",
              "99  4.16  3.34  1\n",
              "\n",
              "[100 rows x 3 columns]"
            ],
            "text/html": [
              "\n",
              "  <div id=\"df-cd136d43-c169-43b8-8f3c-1ca18d7d1bf7\" class=\"colab-df-container\">\n",
              "    <div>\n",
              "<style scoped>\n",
              "    .dataframe tbody tr th:only-of-type {\n",
              "        vertical-align: middle;\n",
              "    }\n",
              "\n",
              "    .dataframe tbody tr th {\n",
              "        vertical-align: top;\n",
              "    }\n",
              "\n",
              "    .dataframe thead th {\n",
              "        text-align: right;\n",
              "    }\n",
              "</style>\n",
              "<table border=\"1\" class=\"dataframe\">\n",
              "  <thead>\n",
              "    <tr style=\"text-align: right;\">\n",
              "      <th></th>\n",
              "      <th>0</th>\n",
              "      <th>1</th>\n",
              "      <th>2</th>\n",
              "    </tr>\n",
              "  </thead>\n",
              "  <tbody>\n",
              "    <tr>\n",
              "      <th>0</th>\n",
              "      <td>0.77</td>\n",
              "      <td>-1.14</td>\n",
              "      <td>0</td>\n",
              "    </tr>\n",
              "    <tr>\n",
              "      <th>1</th>\n",
              "      <td>-0.33</td>\n",
              "      <td>1.44</td>\n",
              "      <td>0</td>\n",
              "    </tr>\n",
              "    <tr>\n",
              "      <th>2</th>\n",
              "      <td>0.91</td>\n",
              "      <td>-3.07</td>\n",
              "      <td>0</td>\n",
              "    </tr>\n",
              "    <tr>\n",
              "      <th>3</th>\n",
              "      <td>-0.37</td>\n",
              "      <td>-1.91</td>\n",
              "      <td>0</td>\n",
              "    </tr>\n",
              "    <tr>\n",
              "      <th>4</th>\n",
              "      <td>-1.84</td>\n",
              "      <td>-1.13</td>\n",
              "      <td>0</td>\n",
              "    </tr>\n",
              "    <tr>\n",
              "      <th>...</th>\n",
              "      <td>...</td>\n",
              "      <td>...</td>\n",
              "      <td>...</td>\n",
              "    </tr>\n",
              "    <tr>\n",
              "      <th>95</th>\n",
              "      <td>0.71</td>\n",
              "      <td>2.27</td>\n",
              "      <td>1</td>\n",
              "    </tr>\n",
              "    <tr>\n",
              "      <th>96</th>\n",
              "      <td>1.96</td>\n",
              "      <td>0.83</td>\n",
              "      <td>1</td>\n",
              "    </tr>\n",
              "    <tr>\n",
              "      <th>97</th>\n",
              "      <td>2.52</td>\n",
              "      <td>1.83</td>\n",
              "      <td>1</td>\n",
              "    </tr>\n",
              "    <tr>\n",
              "      <th>98</th>\n",
              "      <td>2.77</td>\n",
              "      <td>2.82</td>\n",
              "      <td>1</td>\n",
              "    </tr>\n",
              "    <tr>\n",
              "      <th>99</th>\n",
              "      <td>4.16</td>\n",
              "      <td>3.34</td>\n",
              "      <td>1</td>\n",
              "    </tr>\n",
              "  </tbody>\n",
              "</table>\n",
              "<p>100 rows × 3 columns</p>\n",
              "</div>\n",
              "    <div class=\"colab-df-buttons\">\n",
              "\n",
              "  <div class=\"colab-df-container\">\n",
              "    <button class=\"colab-df-convert\" onclick=\"convertToInteractive('df-cd136d43-c169-43b8-8f3c-1ca18d7d1bf7')\"\n",
              "            title=\"Convert this dataframe to an interactive table.\"\n",
              "            style=\"display:none;\">\n",
              "\n",
              "  <svg xmlns=\"http://www.w3.org/2000/svg\" height=\"24px\" viewBox=\"0 -960 960 960\">\n",
              "    <path d=\"M120-120v-720h720v720H120Zm60-500h600v-160H180v160Zm220 220h160v-160H400v160Zm0 220h160v-160H400v160ZM180-400h160v-160H180v160Zm440 0h160v-160H620v160ZM180-180h160v-160H180v160Zm440 0h160v-160H620v160Z\"/>\n",
              "  </svg>\n",
              "    </button>\n",
              "\n",
              "  <style>\n",
              "    .colab-df-container {\n",
              "      display:flex;\n",
              "      gap: 12px;\n",
              "    }\n",
              "\n",
              "    .colab-df-convert {\n",
              "      background-color: #E8F0FE;\n",
              "      border: none;\n",
              "      border-radius: 50%;\n",
              "      cursor: pointer;\n",
              "      display: none;\n",
              "      fill: #1967D2;\n",
              "      height: 32px;\n",
              "      padding: 0 0 0 0;\n",
              "      width: 32px;\n",
              "    }\n",
              "\n",
              "    .colab-df-convert:hover {\n",
              "      background-color: #E2EBFA;\n",
              "      box-shadow: 0px 1px 2px rgba(60, 64, 67, 0.3), 0px 1px 3px 1px rgba(60, 64, 67, 0.15);\n",
              "      fill: #174EA6;\n",
              "    }\n",
              "\n",
              "    .colab-df-buttons div {\n",
              "      margin-bottom: 4px;\n",
              "    }\n",
              "\n",
              "    [theme=dark] .colab-df-convert {\n",
              "      background-color: #3B4455;\n",
              "      fill: #D2E3FC;\n",
              "    }\n",
              "\n",
              "    [theme=dark] .colab-df-convert:hover {\n",
              "      background-color: #434B5C;\n",
              "      box-shadow: 0px 1px 3px 1px rgba(0, 0, 0, 0.15);\n",
              "      filter: drop-shadow(0px 1px 2px rgba(0, 0, 0, 0.3));\n",
              "      fill: #FFFFFF;\n",
              "    }\n",
              "  </style>\n",
              "\n",
              "    <script>\n",
              "      const buttonEl =\n",
              "        document.querySelector('#df-cd136d43-c169-43b8-8f3c-1ca18d7d1bf7 button.colab-df-convert');\n",
              "      buttonEl.style.display =\n",
              "        google.colab.kernel.accessAllowed ? 'block' : 'none';\n",
              "\n",
              "      async function convertToInteractive(key) {\n",
              "        const element = document.querySelector('#df-cd136d43-c169-43b8-8f3c-1ca18d7d1bf7');\n",
              "        const dataTable =\n",
              "          await google.colab.kernel.invokeFunction('convertToInteractive',\n",
              "                                                    [key], {});\n",
              "        if (!dataTable) return;\n",
              "\n",
              "        const docLinkHtml = 'Like what you see? Visit the ' +\n",
              "          '<a target=\"_blank\" href=https://colab.research.google.com/notebooks/data_table.ipynb>data table notebook</a>'\n",
              "          + ' to learn more about interactive tables.';\n",
              "        element.innerHTML = '';\n",
              "        dataTable['output_type'] = 'display_data';\n",
              "        await google.colab.output.renderOutput(dataTable, element);\n",
              "        const docLink = document.createElement('div');\n",
              "        docLink.innerHTML = docLinkHtml;\n",
              "        element.appendChild(docLink);\n",
              "      }\n",
              "    </script>\n",
              "  </div>\n",
              "\n",
              "\n",
              "    <div id=\"df-6ab8c5e6-d5da-4302-89e8-5459f9773a81\">\n",
              "      <button class=\"colab-df-quickchart\" onclick=\"quickchart('df-6ab8c5e6-d5da-4302-89e8-5459f9773a81')\"\n",
              "                title=\"Suggest charts\"\n",
              "                style=\"display:none;\">\n",
              "\n",
              "<svg xmlns=\"http://www.w3.org/2000/svg\" height=\"24px\"viewBox=\"0 0 24 24\"\n",
              "     width=\"24px\">\n",
              "    <g>\n",
              "        <path d=\"M19 3H5c-1.1 0-2 .9-2 2v14c0 1.1.9 2 2 2h14c1.1 0 2-.9 2-2V5c0-1.1-.9-2-2-2zM9 17H7v-7h2v7zm4 0h-2V7h2v10zm4 0h-2v-4h2v4z\"/>\n",
              "    </g>\n",
              "</svg>\n",
              "      </button>\n",
              "\n",
              "<style>\n",
              "  .colab-df-quickchart {\n",
              "      --bg-color: #E8F0FE;\n",
              "      --fill-color: #1967D2;\n",
              "      --hover-bg-color: #E2EBFA;\n",
              "      --hover-fill-color: #174EA6;\n",
              "      --disabled-fill-color: #AAA;\n",
              "      --disabled-bg-color: #DDD;\n",
              "  }\n",
              "\n",
              "  [theme=dark] .colab-df-quickchart {\n",
              "      --bg-color: #3B4455;\n",
              "      --fill-color: #D2E3FC;\n",
              "      --hover-bg-color: #434B5C;\n",
              "      --hover-fill-color: #FFFFFF;\n",
              "      --disabled-bg-color: #3B4455;\n",
              "      --disabled-fill-color: #666;\n",
              "  }\n",
              "\n",
              "  .colab-df-quickchart {\n",
              "    background-color: var(--bg-color);\n",
              "    border: none;\n",
              "    border-radius: 50%;\n",
              "    cursor: pointer;\n",
              "    display: none;\n",
              "    fill: var(--fill-color);\n",
              "    height: 32px;\n",
              "    padding: 0;\n",
              "    width: 32px;\n",
              "  }\n",
              "\n",
              "  .colab-df-quickchart:hover {\n",
              "    background-color: var(--hover-bg-color);\n",
              "    box-shadow: 0 1px 2px rgba(60, 64, 67, 0.3), 0 1px 3px 1px rgba(60, 64, 67, 0.15);\n",
              "    fill: var(--button-hover-fill-color);\n",
              "  }\n",
              "\n",
              "  .colab-df-quickchart-complete:disabled,\n",
              "  .colab-df-quickchart-complete:disabled:hover {\n",
              "    background-color: var(--disabled-bg-color);\n",
              "    fill: var(--disabled-fill-color);\n",
              "    box-shadow: none;\n",
              "  }\n",
              "\n",
              "  .colab-df-spinner {\n",
              "    border: 2px solid var(--fill-color);\n",
              "    border-color: transparent;\n",
              "    border-bottom-color: var(--fill-color);\n",
              "    animation:\n",
              "      spin 1s steps(1) infinite;\n",
              "  }\n",
              "\n",
              "  @keyframes spin {\n",
              "    0% {\n",
              "      border-color: transparent;\n",
              "      border-bottom-color: var(--fill-color);\n",
              "      border-left-color: var(--fill-color);\n",
              "    }\n",
              "    20% {\n",
              "      border-color: transparent;\n",
              "      border-left-color: var(--fill-color);\n",
              "      border-top-color: var(--fill-color);\n",
              "    }\n",
              "    30% {\n",
              "      border-color: transparent;\n",
              "      border-left-color: var(--fill-color);\n",
              "      border-top-color: var(--fill-color);\n",
              "      border-right-color: var(--fill-color);\n",
              "    }\n",
              "    40% {\n",
              "      border-color: transparent;\n",
              "      border-right-color: var(--fill-color);\n",
              "      border-top-color: var(--fill-color);\n",
              "    }\n",
              "    60% {\n",
              "      border-color: transparent;\n",
              "      border-right-color: var(--fill-color);\n",
              "    }\n",
              "    80% {\n",
              "      border-color: transparent;\n",
              "      border-right-color: var(--fill-color);\n",
              "      border-bottom-color: var(--fill-color);\n",
              "    }\n",
              "    90% {\n",
              "      border-color: transparent;\n",
              "      border-bottom-color: var(--fill-color);\n",
              "    }\n",
              "  }\n",
              "</style>\n",
              "\n",
              "      <script>\n",
              "        async function quickchart(key) {\n",
              "          const quickchartButtonEl =\n",
              "            document.querySelector('#' + key + ' button');\n",
              "          quickchartButtonEl.disabled = true;  // To prevent multiple clicks.\n",
              "          quickchartButtonEl.classList.add('colab-df-spinner');\n",
              "          try {\n",
              "            const charts = await google.colab.kernel.invokeFunction(\n",
              "                'suggestCharts', [key], {});\n",
              "          } catch (error) {\n",
              "            console.error('Error during call to suggestCharts:', error);\n",
              "          }\n",
              "          quickchartButtonEl.classList.remove('colab-df-spinner');\n",
              "          quickchartButtonEl.classList.add('colab-df-quickchart-complete');\n",
              "        }\n",
              "        (() => {\n",
              "          let quickchartButtonEl =\n",
              "            document.querySelector('#df-6ab8c5e6-d5da-4302-89e8-5459f9773a81 button');\n",
              "          quickchartButtonEl.style.display =\n",
              "            google.colab.kernel.accessAllowed ? 'block' : 'none';\n",
              "        })();\n",
              "      </script>\n",
              "    </div>\n",
              "\n",
              "  <div id=\"id_79fac774-0f71-40e9-898e-8620025c113f\">\n",
              "    <style>\n",
              "      .colab-df-generate {\n",
              "        background-color: #E8F0FE;\n",
              "        border: none;\n",
              "        border-radius: 50%;\n",
              "        cursor: pointer;\n",
              "        display: none;\n",
              "        fill: #1967D2;\n",
              "        height: 32px;\n",
              "        padding: 0 0 0 0;\n",
              "        width: 32px;\n",
              "      }\n",
              "\n",
              "      .colab-df-generate:hover {\n",
              "        background-color: #E2EBFA;\n",
              "        box-shadow: 0px 1px 2px rgba(60, 64, 67, 0.3), 0px 1px 3px 1px rgba(60, 64, 67, 0.15);\n",
              "        fill: #174EA6;\n",
              "      }\n",
              "\n",
              "      [theme=dark] .colab-df-generate {\n",
              "        background-color: #3B4455;\n",
              "        fill: #D2E3FC;\n",
              "      }\n",
              "\n",
              "      [theme=dark] .colab-df-generate:hover {\n",
              "        background-color: #434B5C;\n",
              "        box-shadow: 0px 1px 3px 1px rgba(0, 0, 0, 0.15);\n",
              "        filter: drop-shadow(0px 1px 2px rgba(0, 0, 0, 0.3));\n",
              "        fill: #FFFFFF;\n",
              "      }\n",
              "    </style>\n",
              "    <button class=\"colab-df-generate\" onclick=\"generateWithVariable('df')\"\n",
              "            title=\"Generate code using this dataframe.\"\n",
              "            style=\"display:none;\">\n",
              "\n",
              "  <svg xmlns=\"http://www.w3.org/2000/svg\" height=\"24px\"viewBox=\"0 0 24 24\"\n",
              "       width=\"24px\">\n",
              "    <path d=\"M7,19H8.4L18.45,9,17,7.55,7,17.6ZM5,21V16.75L18.45,3.32a2,2,0,0,1,2.83,0l1.4,1.43a1.91,1.91,0,0,1,.58,1.4,1.91,1.91,0,0,1-.58,1.4L9.25,21ZM18.45,9,17,7.55Zm-12,3A5.31,5.31,0,0,0,4.9,8.1,5.31,5.31,0,0,0,1,6.5,5.31,5.31,0,0,0,4.9,4.9,5.31,5.31,0,0,0,6.5,1,5.31,5.31,0,0,0,8.1,4.9,5.31,5.31,0,0,0,12,6.5,5.46,5.46,0,0,0,6.5,12Z\"/>\n",
              "  </svg>\n",
              "    </button>\n",
              "    <script>\n",
              "      (() => {\n",
              "      const buttonEl =\n",
              "        document.querySelector('#id_79fac774-0f71-40e9-898e-8620025c113f button.colab-df-generate');\n",
              "      buttonEl.style.display =\n",
              "        google.colab.kernel.accessAllowed ? 'block' : 'none';\n",
              "\n",
              "      buttonEl.onclick = () => {\n",
              "        google.colab.notebook.generateWithVariable('df');\n",
              "      }\n",
              "      })();\n",
              "    </script>\n",
              "  </div>\n",
              "\n",
              "    </div>\n",
              "  </div>\n"
            ],
            "application/vnd.google.colaboratory.intrinsic+json": {
              "type": "dataframe",
              "variable_name": "df",
              "summary": "{\n  \"name\": \"df\",\n  \"rows\": 100,\n  \"fields\": [\n    {\n      \"column\": 0,\n      \"properties\": {\n        \"dtype\": \"number\",\n        \"std\": 2.2241856323771017,\n        \"min\": -5.27,\n        \"max\": 4.38,\n        \"num_unique_values\": 96,\n        \"samples\": [\n          1.5,\n          1.9,\n          1.09\n        ],\n        \"semantic_type\": \"\",\n        \"description\": \"\"\n      }\n    },\n    {\n      \"column\": 1,\n      \"properties\": {\n        \"dtype\": \"number\",\n        \"std\": 2.245021596710591,\n        \"min\": -4.47,\n        \"max\": 3.94,\n        \"num_unique_values\": 96,\n        \"samples\": [\n          2.09,\n          0.92,\n          1.54\n        ],\n        \"semantic_type\": \"\",\n        \"description\": \"\"\n      }\n    },\n    {\n      \"column\": 2,\n      \"properties\": {\n        \"dtype\": \"number\",\n        \"std\": 0,\n        \"min\": 0,\n        \"max\": 1,\n        \"num_unique_values\": 2,\n        \"samples\": [\n          1,\n          0\n        ],\n        \"semantic_type\": \"\",\n        \"description\": \"\"\n      }\n    }\n  ]\n}"
            }
          },
          "metadata": {},
          "execution_count": 2
        }
      ]
    },
    {
      "cell_type": "code",
      "source": [
        "X_train = df[[0,1]].values\n",
        "y_train = df[2].values"
      ],
      "metadata": {
        "id": "QguRRf3knO4T"
      },
      "execution_count": 4,
      "outputs": []
    },
    {
      "cell_type": "markdown",
      "source": [
        "Here, we normalize the dataset to.."
      ],
      "metadata": {
        "id": "XL6rXrUWoUh1"
      }
    },
    {
      "cell_type": "code",
      "source": [
        "# normalizing the dataset\n",
        "X_train = (X_train - X_train.mean(axis=0)) / X_train.std(axis=0)"
      ],
      "metadata": {
        "id": "dughxMDQnUcj"
      },
      "execution_count": 11,
      "outputs": []
    },
    {
      "cell_type": "markdown",
      "source": [
        "### 2. Visualizing the dataset"
      ],
      "metadata": {
        "id": "vTdH8GEuoKdU"
      }
    },
    {
      "cell_type": "code",
      "source": [
        "import matplotlib.pyplot as plt"
      ],
      "metadata": {
        "id": "BAbnAZjCoGuj"
      },
      "execution_count": 12,
      "outputs": []
    },
    {
      "cell_type": "code",
      "source": [
        "plt.plot(\n",
        "    X_train[y_train == 0, 0],\n",
        "    X_train[y_train == 0, 1],\n",
        "    marker = \"D\",\n",
        "    markersize = 10,\n",
        "    linestyle=\"\",\n",
        "    label=\"Class 0\"\n",
        ")\n",
        "\n",
        "plt.plot(\n",
        "    X_train[y_train == 1, 0],\n",
        "    X_train[y_train == 1, 1],\n",
        "    marker = \"^\",\n",
        "    markersize = 13,\n",
        "    linestyle=\"\",\n",
        "    label=\"Class 1\"\n",
        ")\n",
        "\n",
        "plt.legend(loc=2)\n",
        "\n",
        "plt.xlim([-5, 5])\n",
        "plt.ylim([-5, 5])\n",
        "\n",
        "plt.xlabel(\"Feature\", fontsize=12)\n",
        "plt.ylabel(\"Feature\", fontsize=12)\n",
        "\n",
        "plt.grid()\n",
        "plt.show()\n",
        ""
      ],
      "metadata": {
        "colab": {
          "base_uri": "https://localhost:8080/",
          "height": 453
        },
        "id": "OYtbk17lnybE",
        "outputId": "9ebd9de7-63a3-4cf6-feca-114be827ecb1"
      },
      "execution_count": 13,
      "outputs": [
        {
          "output_type": "display_data",
          "data": {
            "text/plain": [
              "<Figure size 640x480 with 1 Axes>"
            ],
            "image/png": "[encoded data removed]"
          },
          "metadata": {}
        }
      ]
    },
    {
      "cell_type": "markdown",
      "source": [
        "### 3. Implementation"
      ],
      "metadata": {
        "id": "k_NyPg31oQI3"
      }
    },
    {
      "cell_type": "code",
      "source": [
        "import torch\n",
        "\n",
        "class LogisticRegression(torch.nn.Module):\n",
        "\n",
        "  def __init__(self, num_features):\n",
        "    super().__init__()\n",
        "    self.linear = torch.nn.Linear(in_features=num_features, out_features=1)\n",
        "\n",
        "  def forward(self, x):\n",
        "    logits = self.linear(x)  # weighted sum(z) = x.matmul(w.T) + b\n",
        "    prob = torch.sigmoid(logits) # sigmoid output(a) || probablitiy\n",
        "\n",
        "    return prob"
      ],
      "metadata": {
        "id": "Mb7weAY8oYF-"
      },
      "execution_count": 23,
      "outputs": []
    },
    {
      "cell_type": "code",
      "source": [
        "# evaluating prediction\n",
        "torch.manual_seed(1)\n",
        "\n",
        "model = LogisticRegression(num_features=2)\n",
        "x = torch.tensor([1.1, 2.1])\n",
        "\n",
        "with torch.no_grad():\n",
        "  proba = model(x)\n",
        "\n",
        "print(proba)"
      ],
      "metadata": {
        "colab": {
          "base_uri": "https://localhost:8080/"
        },
        "id": "rW2f2MHGrRUL",
        "outputId": "16412322-d0be-4af9-fe3e-8f2ec6802215"
      },
      "execution_count": 24,
      "outputs": [
        {
          "output_type": "stream",
          "name": "stdout",
          "text": [
            "tensor([0.4033])\n"
          ]
        }
      ]
    },
    {
      "cell_type": "markdown",
      "source": [
        "### 4. Defining a DataLoader"
      ],
      "metadata": {
        "id": "f66nPfbou0fp"
      }
    },
    {
      "cell_type": "code",
      "source": [
        "from torch.utils.data import Dataset, DataLoader\n",
        "\n",
        "class MyDataset(Dataset):\n",
        "\n",
        "  def __init__(self, X, y):\n",
        "    self.features = torch.tensor(X, dtype=torch.float32)\n",
        "    self.labels = torch.tensor(y, dtype=torch.float32)\n",
        "\n",
        "  # used by DataLoader to retrieve a single item at specified index\n",
        "  def __getitem__(self, index):\n",
        "    x = self.features[index]\n",
        "    y = self.labels[index]\n",
        "    return x, y\n",
        "\n",
        "  # used by DataLoader to know how many samples exist\n",
        "  def __len__(self):\n",
        "    return self.labels.shape[0]\n",
        "\n",
        "train_ds = MyDataset(X_train, y_train)\n",
        "\n",
        "train_loader = DataLoader(\n",
        "    dataset=train_ds,\n",
        "    batch_size=10,\n",
        "    shuffle=True,\n",
        ")"
      ],
      "metadata": {
        "id": "e3QzPFwWtfC-"
      },
      "execution_count": null,
      "outputs": []
    },
    {
      "cell_type": "markdown",
      "source": [
        "### 5. Training the Model"
      ],
      "metadata": {
        "id": "pSh4CbbKx8K2"
      }
    },
    {
      "cell_type": "markdown",
      "source": [
        "Here, we first initalize our model and optimizer. We are using SGD and calling model.parameters() which returns all the relevant model parameters, weights and the bias unit, that the SGD optimizer needs to update and lr is the learning rate, set as 0.05.\n",
        "\n",
        "*for batch_idx, (features, class_labels) in enumerate(train_loader)* --> train_loader is a DataLoader object which, on each iteration, yeilds a tuple where each sample's features and label are matched by index."
      ],
      "metadata": {
        "id": "CKiOqDJsyrio"
      }
    },
    {
      "cell_type": "code",
      "source": [
        "import torch.nn.functional as F\n",
        "\n",
        "torch.manual_seed(1)\n",
        "model = LogisticRegression(num_features=2)\n",
        "optimizer = torch.optim.SGD(model.parameters(), lr=0.05)\n",
        "\n",
        "num_epochs = 20\n",
        "\n",
        "for epoch in range(num_epochs):\n",
        "\n",
        "  # set the model into training mode\n",
        "  model = model.train()\n",
        "  for batch_idx, (features, class_labels) in enumerate(train_loader):\n",
        "\n",
        "    prob = model(features)\n",
        "    loss = F.binary_cross_entropy(prob, class_labels.view(prob.shape))\n",
        "\n",
        "    optimizer.zero_grad() # set previous gradient to 0\n",
        "    loss.backward() # compute all required gradients\n",
        "    optimizer.step()  # perform parameter updates based on the gradients\n",
        "\n",
        "    print(f'Epoch: {epoch+1:03d}/{num_epochs:03d}'\n",
        "          f' | Batch: {batch_idx:03d}/{len(train_loader):03d}'\n",
        "          f' | Loss: {loss:.2f}')"
      ],
      "metadata": {
        "colab": {
          "base_uri": "https://localhost:8080/"
        },
        "collapsed": true,
        "id": "V-0KprIrx5X8",
        "outputId": "fce0295c-ca26-4eb4-f0e3-880ceeea782e"
      },
      "execution_count": 53,
      "outputs": [
        {
          "output_type": "stream",
          "name": "stdout",
          "text": [
            "Epoch: 001/020 | Batch: 000/010 | Loss: 0.70\n",
            "Epoch: 001/020 | Batch: 001/010 | Loss: 0.63\n",
            "Epoch: 001/020 | Batch: 002/010 | Loss: 0.62\n",
            "Epoch: 001/020 | Batch: 003/010 | Loss: 0.59\n",
            "Epoch: 001/020 | Batch: 004/010 | Loss: 0.56\n",
            "Epoch: 001/020 | Batch: 005/010 | Loss: 0.63\n",
            "Epoch: 001/020 | Batch: 006/010 | Loss: 0.68\n",
            "Epoch: 001/020 | Batch: 007/010 | Loss: 0.60\n",
            "Epoch: 001/020 | Batch: 008/010 | Loss: 0.67\n",
            "Epoch: 001/020 | Batch: 009/010 | Loss: 0.50\n",
            "Epoch: 002/020 | Batch: 000/010 | Loss: 0.50\n",
            "Epoch: 002/020 | Batch: 001/010 | Loss: 0.55\n",
            "Epoch: 002/020 | Batch: 002/010 | Loss: 0.56\n",
            "Epoch: 002/020 | Batch: 003/010 | Loss: 0.50\n",
            "Epoch: 002/020 | Batch: 004/010 | Loss: 0.55\n",
            "Epoch: 002/020 | Batch: 005/010 | Loss: 0.52\n",
            "Epoch: 002/020 | Batch: 006/010 | Loss: 0.46\n",
            "Epoch: 002/020 | Batch: 007/010 | Loss: 0.45\n",
            "Epoch: 002/020 | Batch: 008/010 | Loss: 0.45\n",
            "Epoch: 002/020 | Batch: 009/010 | Loss: 0.49\n",
            "Epoch: 003/020 | Batch: 000/010 | Loss: 0.45\n",
            "Epoch: 003/020 | Batch: 001/010 | Loss: 0.44\n",
            "Epoch: 003/020 | Batch: 002/010 | Loss: 0.43\n",
            "Epoch: 003/020 | Batch: 003/010 | Loss: 0.51\n",
            "Epoch: 003/020 | Batch: 004/010 | Loss: 0.37\n",
            "Epoch: 003/020 | Batch: 005/010 | Loss: 0.47\n",
            "Epoch: 003/020 | Batch: 006/010 | Loss: 0.36\n",
            "Epoch: 003/020 | Batch: 007/010 | Loss: 0.42\n",
            "Epoch: 003/020 | Batch: 008/010 | Loss: 0.41\n",
            "Epoch: 003/020 | Batch: 009/010 | Loss: 0.40\n",
            "Epoch: 004/020 | Batch: 000/010 | Loss: 0.33\n",
            "Epoch: 004/020 | Batch: 001/010 | Loss: 0.40\n",
            "Epoch: 004/020 | Batch: 002/010 | Loss: 0.39\n",
            "Epoch: 004/020 | Batch: 003/010 | Loss: 0.30\n",
            "Epoch: 004/020 | Batch: 004/010 | Loss: 0.39\n",
            "Epoch: 004/020 | Batch: 005/010 | Loss: 0.41\n",
            "Epoch: 004/020 | Batch: 006/010 | Loss: 0.44\n",
            "Epoch: 004/020 | Batch: 007/010 | Loss: 0.33\n",
            "Epoch: 004/020 | Batch: 008/010 | Loss: 0.37\n",
            "Epoch: 004/020 | Batch: 009/010 | Loss: 0.32\n",
            "Epoch: 005/020 | Batch: 000/010 | Loss: 0.39\n",
            "Epoch: 005/020 | Batch: 001/010 | Loss: 0.36\n",
            "Epoch: 005/020 | Batch: 002/010 | Loss: 0.38\n",
            "Epoch: 005/020 | Batch: 003/010 | Loss: 0.36\n",
            "Epoch: 005/020 | Batch: 004/010 | Loss: 0.38\n",
            "Epoch: 005/020 | Batch: 005/010 | Loss: 0.25\n",
            "Epoch: 005/020 | Batch: 006/010 | Loss: 0.25\n",
            "Epoch: 005/020 | Batch: 007/010 | Loss: 0.27\n",
            "Epoch: 005/020 | Batch: 008/010 | Loss: 0.30\n",
            "Epoch: 005/020 | Batch: 009/010 | Loss: 0.32\n",
            "Epoch: 006/020 | Batch: 000/010 | Loss: 0.31\n",
            "Epoch: 006/020 | Batch: 001/010 | Loss: 0.35\n",
            "Epoch: 006/020 | Batch: 002/010 | Loss: 0.30\n",
            "Epoch: 006/020 | Batch: 003/010 | Loss: 0.30\n",
            "Epoch: 006/020 | Batch: 004/010 | Loss: 0.24\n",
            "Epoch: 006/020 | Batch: 005/010 | Loss: 0.23\n",
            "Epoch: 006/020 | Batch: 006/010 | Loss: 0.32\n",
            "Epoch: 006/020 | Batch: 007/010 | Loss: 0.31\n",
            "Epoch: 006/020 | Batch: 008/010 | Loss: 0.31\n",
            "Epoch: 006/020 | Batch: 009/010 | Loss: 0.28\n",
            "Epoch: 007/020 | Batch: 000/010 | Loss: 0.23\n",
            "Epoch: 007/020 | Batch: 001/010 | Loss: 0.29\n",
            "Epoch: 007/020 | Batch: 002/010 | Loss: 0.34\n",
            "Epoch: 007/020 | Batch: 003/010 | Loss: 0.29\n",
            "Epoch: 007/020 | Batch: 004/010 | Loss: 0.36\n",
            "Epoch: 007/020 | Batch: 005/010 | Loss: 0.21\n",
            "Epoch: 007/020 | Batch: 006/010 | Loss: 0.24\n",
            "Epoch: 007/020 | Batch: 007/010 | Loss: 0.24\n",
            "Epoch: 007/020 | Batch: 008/010 | Loss: 0.23\n",
            "Epoch: 007/020 | Batch: 009/010 | Loss: 0.26\n",
            "Epoch: 008/020 | Batch: 000/010 | Loss: 0.26\n",
            "Epoch: 008/020 | Batch: 001/010 | Loss: 0.21\n",
            "Epoch: 008/020 | Batch: 002/010 | Loss: 0.25\n",
            "Epoch: 008/020 | Batch: 003/010 | Loss: 0.25\n",
            "Epoch: 008/020 | Batch: 004/010 | Loss: 0.26\n",
            "Epoch: 008/020 | Batch: 005/010 | Loss: 0.22\n",
            "Epoch: 008/020 | Batch: 006/010 | Loss: 0.23\n",
            "Epoch: 008/020 | Batch: 007/010 | Loss: 0.20\n",
            "Epoch: 008/020 | Batch: 008/010 | Loss: 0.28\n",
            "Epoch: 008/020 | Batch: 009/010 | Loss: 0.32\n",
            "Epoch: 009/020 | Batch: 000/010 | Loss: 0.24\n",
            "Epoch: 009/020 | Batch: 001/010 | Loss: 0.25\n",
            "Epoch: 009/020 | Batch: 002/010 | Loss: 0.23\n",
            "Epoch: 009/020 | Batch: 003/010 | Loss: 0.31\n",
            "Epoch: 009/020 | Batch: 004/010 | Loss: 0.24\n",
            "Epoch: 009/020 | Batch: 005/010 | Loss: 0.18\n",
            "Epoch: 009/020 | Batch: 006/010 | Loss: 0.21\n",
            "Epoch: 009/020 | Batch: 007/010 | Loss: 0.17\n",
            "Epoch: 009/020 | Batch: 008/010 | Loss: 0.22\n",
            "Epoch: 009/020 | Batch: 009/010 | Loss: 0.26\n",
            "Epoch: 010/020 | Batch: 000/010 | Loss: 0.28\n",
            "Epoch: 010/020 | Batch: 001/010 | Loss: 0.29\n",
            "Epoch: 010/020 | Batch: 002/010 | Loss: 0.22\n",
            "Epoch: 010/020 | Batch: 003/010 | Loss: 0.14\n",
            "Epoch: 010/020 | Batch: 004/010 | Loss: 0.23\n",
            "Epoch: 010/020 | Batch: 005/010 | Loss: 0.21\n",
            "Epoch: 010/020 | Batch: 006/010 | Loss: 0.17\n",
            "Epoch: 010/020 | Batch: 007/010 | Loss: 0.17\n",
            "Epoch: 010/020 | Batch: 008/010 | Loss: 0.24\n",
            "Epoch: 010/020 | Batch: 009/010 | Loss: 0.22\n",
            "Epoch: 011/020 | Batch: 000/010 | Loss: 0.18\n",
            "Epoch: 011/020 | Batch: 001/010 | Loss: 0.26\n",
            "Epoch: 011/020 | Batch: 002/010 | Loss: 0.20\n",
            "Epoch: 011/020 | Batch: 003/010 | Loss: 0.25\n",
            "Epoch: 011/020 | Batch: 004/010 | Loss: 0.15\n",
            "Epoch: 011/020 | Batch: 005/010 | Loss: 0.30\n",
            "Epoch: 011/020 | Batch: 006/010 | Loss: 0.14\n",
            "Epoch: 011/020 | Batch: 007/010 | Loss: 0.26\n",
            "Epoch: 011/020 | Batch: 008/010 | Loss: 0.16\n",
            "Epoch: 011/020 | Batch: 009/010 | Loss: 0.14\n",
            "Epoch: 012/020 | Batch: 000/010 | Loss: 0.23\n",
            "Epoch: 012/020 | Batch: 001/010 | Loss: 0.19\n",
            "Epoch: 012/020 | Batch: 002/010 | Loss: 0.20\n",
            "Epoch: 012/020 | Batch: 003/010 | Loss: 0.15\n",
            "Epoch: 012/020 | Batch: 004/010 | Loss: 0.25\n",
            "Epoch: 012/020 | Batch: 005/010 | Loss: 0.21\n",
            "Epoch: 012/020 | Batch: 006/010 | Loss: 0.19\n",
            "Epoch: 012/020 | Batch: 007/010 | Loss: 0.13\n",
            "Epoch: 012/020 | Batch: 008/010 | Loss: 0.19\n",
            "Epoch: 012/020 | Batch: 009/010 | Loss: 0.21\n",
            "Epoch: 013/020 | Batch: 000/010 | Loss: 0.20\n",
            "Epoch: 013/020 | Batch: 001/010 | Loss: 0.18\n",
            "Epoch: 013/020 | Batch: 002/010 | Loss: 0.29\n",
            "Epoch: 013/020 | Batch: 003/010 | Loss: 0.19\n",
            "Epoch: 013/020 | Batch: 004/010 | Loss: 0.20\n",
            "Epoch: 013/020 | Batch: 005/010 | Loss: 0.20\n",
            "Epoch: 013/020 | Batch: 006/010 | Loss: 0.17\n",
            "Epoch: 013/020 | Batch: 007/010 | Loss: 0.14\n",
            "Epoch: 013/020 | Batch: 008/010 | Loss: 0.16\n",
            "Epoch: 013/020 | Batch: 009/010 | Loss: 0.13\n",
            "Epoch: 014/020 | Batch: 000/010 | Loss: 0.15\n",
            "Epoch: 014/020 | Batch: 001/010 | Loss: 0.16\n",
            "Epoch: 014/020 | Batch: 002/010 | Loss: 0.16\n",
            "Epoch: 014/020 | Batch: 003/010 | Loss: 0.13\n",
            "Epoch: 014/020 | Batch: 004/010 | Loss: 0.18\n",
            "Epoch: 014/020 | Batch: 005/010 | Loss: 0.32\n",
            "Epoch: 014/020 | Batch: 006/010 | Loss: 0.20\n",
            "Epoch: 014/020 | Batch: 007/010 | Loss: 0.12\n",
            "Epoch: 014/020 | Batch: 008/010 | Loss: 0.13\n",
            "Epoch: 014/020 | Batch: 009/010 | Loss: 0.22\n",
            "Epoch: 015/020 | Batch: 000/010 | Loss: 0.07\n",
            "Epoch: 015/020 | Batch: 001/010 | Loss: 0.13\n",
            "Epoch: 015/020 | Batch: 002/010 | Loss: 0.15\n",
            "Epoch: 015/020 | Batch: 003/010 | Loss: 0.15\n",
            "Epoch: 015/020 | Batch: 004/010 | Loss: 0.14\n",
            "Epoch: 015/020 | Batch: 005/010 | Loss: 0.25\n",
            "Epoch: 015/020 | Batch: 006/010 | Loss: 0.18\n",
            "Epoch: 015/020 | Batch: 007/010 | Loss: 0.18\n",
            "Epoch: 015/020 | Batch: 008/010 | Loss: 0.29\n",
            "Epoch: 015/020 | Batch: 009/010 | Loss: 0.15\n",
            "Epoch: 016/020 | Batch: 000/010 | Loss: 0.15\n",
            "Epoch: 016/020 | Batch: 001/010 | Loss: 0.17\n",
            "Epoch: 016/020 | Batch: 002/010 | Loss: 0.21\n",
            "Epoch: 016/020 | Batch: 003/010 | Loss: 0.14\n",
            "Epoch: 016/020 | Batch: 004/010 | Loss: 0.13\n",
            "Epoch: 016/020 | Batch: 005/010 | Loss: 0.22\n",
            "Epoch: 016/020 | Batch: 006/010 | Loss: 0.19\n",
            "Epoch: 016/020 | Batch: 007/010 | Loss: 0.11\n",
            "Epoch: 016/020 | Batch: 008/010 | Loss: 0.20\n",
            "Epoch: 016/020 | Batch: 009/010 | Loss: 0.13\n",
            "Epoch: 017/020 | Batch: 000/010 | Loss: 0.13\n",
            "Epoch: 017/020 | Batch: 001/010 | Loss: 0.19\n",
            "Epoch: 017/020 | Batch: 002/010 | Loss: 0.15\n",
            "Epoch: 017/020 | Batch: 003/010 | Loss: 0.12\n",
            "Epoch: 017/020 | Batch: 004/010 | Loss: 0.22\n",
            "Epoch: 017/020 | Batch: 005/010 | Loss: 0.13\n",
            "Epoch: 017/020 | Batch: 006/010 | Loss: 0.07\n",
            "Epoch: 017/020 | Batch: 007/010 | Loss: 0.17\n",
            "Epoch: 017/020 | Batch: 008/010 | Loss: 0.26\n",
            "Epoch: 017/020 | Batch: 009/010 | Loss: 0.15\n",
            "Epoch: 018/020 | Batch: 000/010 | Loss: 0.14\n",
            "Epoch: 018/020 | Batch: 001/010 | Loss: 0.25\n",
            "Epoch: 018/020 | Batch: 002/010 | Loss: 0.21\n",
            "Epoch: 018/020 | Batch: 003/010 | Loss: 0.20\n",
            "Epoch: 018/020 | Batch: 004/010 | Loss: 0.10\n",
            "Epoch: 018/020 | Batch: 005/010 | Loss: 0.14\n",
            "Epoch: 018/020 | Batch: 006/010 | Loss: 0.12\n",
            "Epoch: 018/020 | Batch: 007/010 | Loss: 0.08\n",
            "Epoch: 018/020 | Batch: 008/010 | Loss: 0.08\n",
            "Epoch: 018/020 | Batch: 009/010 | Loss: 0.20\n",
            "Epoch: 019/020 | Batch: 000/010 | Loss: 0.23\n",
            "Epoch: 019/020 | Batch: 001/010 | Loss: 0.17\n",
            "Epoch: 019/020 | Batch: 002/010 | Loss: 0.16\n",
            "Epoch: 019/020 | Batch: 003/010 | Loss: 0.12\n",
            "Epoch: 019/020 | Batch: 004/010 | Loss: 0.12\n",
            "Epoch: 019/020 | Batch: 005/010 | Loss: 0.11\n",
            "Epoch: 019/020 | Batch: 006/010 | Loss: 0.12\n",
            "Epoch: 019/020 | Batch: 007/010 | Loss: 0.16\n",
            "Epoch: 019/020 | Batch: 008/010 | Loss: 0.18\n",
            "Epoch: 019/020 | Batch: 009/010 | Loss: 0.12\n",
            "Epoch: 020/020 | Batch: 000/010 | Loss: 0.12\n",
            "Epoch: 020/020 | Batch: 001/010 | Loss: 0.12\n",
            "Epoch: 020/020 | Batch: 002/010 | Loss: 0.14\n",
            "Epoch: 020/020 | Batch: 003/010 | Loss: 0.19\n",
            "Epoch: 020/020 | Batch: 004/010 | Loss: 0.18\n",
            "Epoch: 020/020 | Batch: 005/010 | Loss: 0.09\n",
            "Epoch: 020/020 | Batch: 006/010 | Loss: 0.14\n",
            "Epoch: 020/020 | Batch: 007/010 | Loss: 0.27\n",
            "Epoch: 020/020 | Batch: 008/010 | Loss: 0.10\n",
            "Epoch: 020/020 | Batch: 009/010 | Loss: 0.11\n"
          ]
        }
      ]
    },
    {
      "cell_type": "markdown",
      "source": [
        "### 6. Evaluating the results"
      ],
      "metadata": {
        "id": "9taY4R7N7HE1"
      }
    },
    {
      "cell_type": "markdown",
      "source": [
        "#### note section starts\n",
        "*Side-note regarding the prediction which will be used in computing the accuracy*\n",
        "\n",
        "For simplicility, we are using the probability score from the last mini-batch."
      ],
      "metadata": {
        "id": "rmB2Wpqf7MHP"
      }
    },
    {
      "cell_type": "code",
      "source": [
        "prob"
      ],
      "metadata": {
        "colab": {
          "base_uri": "https://localhost:8080/"
        },
        "id": "ertSgDSN21nY",
        "outputId": "4cab8099-089b-44a4-8c2f-a039e28a1e09"
      },
      "execution_count": 29,
      "outputs": [
        {
          "output_type": "execute_result",
          "data": {
            "text/plain": [
              "tensor([[0.8227],\n",
              "        [0.7678],\n",
              "        [0.9200],\n",
              "        [0.8670],\n",
              "        [0.8732],\n",
              "        [0.0180],\n",
              "        [0.0572],\n",
              "        [0.0304],\n",
              "        [0.8951],\n",
              "        [0.0121]], grad_fn=<SigmoidBackward0>)"
            ]
          },
          "metadata": {},
          "execution_count": 29
        }
      ]
    },
    {
      "cell_type": "code",
      "source": [
        "# compute predictions from the last batch's probability scores\n",
        "prediction = torch.where(prob > 0.5, 1, 0)\n",
        "prediction"
      ],
      "metadata": {
        "colab": {
          "base_uri": "https://localhost:8080/"
        },
        "id": "kPi2BS0B7bEy",
        "outputId": "34cc0216-346e-4863-cb16-a292f75a9e1b"
      },
      "execution_count": 30,
      "outputs": [
        {
          "output_type": "execute_result",
          "data": {
            "text/plain": [
              "tensor([[1],\n",
              "        [1],\n",
              "        [1],\n",
              "        [1],\n",
              "        [1],\n",
              "        [0],\n",
              "        [0],\n",
              "        [0],\n",
              "        [1],\n",
              "        [0]])"
            ]
          },
          "metadata": {},
          "execution_count": 30
        }
      ]
    },
    {
      "cell_type": "markdown",
      "source": [
        "Here, we are reshaping our class_labels array into 2D column tensor like our prediction.\n",
        "\n",
        "*.view()* will reshape class_label to be of shape (10,1) and *.to()* will ensure both have the same data type."
      ],
      "metadata": {
        "id": "Lt6mPout8GBf"
      }
    },
    {
      "cell_type": "code",
      "source": [
        "class_labels.view(prediction.shape).to(prediction.dtype)"
      ],
      "metadata": {
        "colab": {
          "base_uri": "https://localhost:8080/"
        },
        "id": "wALXgMpB7p3Z",
        "outputId": "dab19e77-9810-4e3b-bfa5-5ce8667352a6"
      },
      "execution_count": 31,
      "outputs": [
        {
          "output_type": "execute_result",
          "data": {
            "text/plain": [
              "tensor([[1],\n",
              "        [1],\n",
              "        [1],\n",
              "        [1],\n",
              "        [1],\n",
              "        [0],\n",
              "        [0],\n",
              "        [0],\n",
              "        [1],\n",
              "        [0]])"
            ]
          },
          "metadata": {},
          "execution_count": 31
        }
      ]
    },
    {
      "cell_type": "markdown",
      "source": [
        "#### note section ends"
      ],
      "metadata": {
        "id": "0b4XqqXyBC6h"
      }
    },
    {
      "cell_type": "code",
      "source": [
        "def compute_accuracy(model, dataloader):\n",
        "  # set model to evaluation mode\n",
        "  model = model.eval()\n",
        "\n",
        "  correct_count = 0.0\n",
        "  total_examples = 0.0\n",
        "\n",
        "  for idx, (features, class_labels) in enumerate(dataloader):\n",
        "\n",
        "    with torch.no_grad():\n",
        "      prob = model(features)\n",
        "    prediction = torch.where(prob > 0.5, 1, 0)\n",
        "    label = class_labels.view(prediction.shape).to(prediction.dtype)\n",
        "\n",
        "    compare = (label == prediction)  # tensor of T/Fs\n",
        "    correct_count += torch.sum(compare)\n",
        "    total_examples += len(compare)\n",
        "\n",
        "  return correct_count / total_examples"
      ],
      "metadata": {
        "id": "Xbc74h529_iH"
      },
      "execution_count": 48,
      "outputs": []
    },
    {
      "cell_type": "code",
      "source": [
        "training_accuracy = compute_accuracy(model, train_loader)\n",
        "\n",
        "print(f'Accuracy: {training_accuracy*100}%')"
      ],
      "metadata": {
        "colab": {
          "base_uri": "https://localhost:8080/"
        },
        "id": "03SVUBqmAdFr",
        "outputId": "1874f7f0-42c6-4394-f6a9-a5f1e72a4f32"
      },
      "execution_count": 52,
      "outputs": [
        {
          "output_type": "stream",
          "name": "stdout",
          "text": [
            "Accuracy: 97.0%\n"
          ]
        }
      ]
    },
    {
      "cell_type": "markdown",
      "source": [
        "### 7. Visualizing the Dataset"
      ],
      "metadata": {
        "id": "ehzZ5t2SCHGi"
      }
    },
    {
      "cell_type": "code",
      "source": [
        "def plot_boundary(model):\n",
        "\n",
        "    w1 = model.linear.weight[0][0].detach()\n",
        "    w2 = model.linear.weight[0][1].detach()\n",
        "    b = model.linear.bias[0].detach()\n",
        "\n",
        "    x1_min = -20\n",
        "    x2_min = (-(w1 * x1_min) - b) / w2\n",
        "\n",
        "    x1_max = 20\n",
        "    x2_max = (-(w1 * x1_max) - b) / w2\n",
        "\n",
        "    return x1_min, x1_max, x2_min, x2_max"
      ],
      "metadata": {
        "id": "YjMooOMuCP6s"
      },
      "execution_count": 54,
      "outputs": []
    },
    {
      "cell_type": "code",
      "source": [
        "x1_min, x1_max, x2_min, x2_max = plot_boundary(model)\n",
        "\n",
        "\n",
        "plt.plot(\n",
        "    X_train[y_train == 0, 0],\n",
        "    X_train[y_train == 0, 1],\n",
        "    marker=\"D\",\n",
        "    markersize=10,\n",
        "    linestyle=\"\",\n",
        "    label=\"Class 0\",\n",
        ")\n",
        "\n",
        "plt.plot(\n",
        "    X_train[y_train == 1, 0],\n",
        "    X_train[y_train == 1, 1],\n",
        "    marker=\"^\",\n",
        "    markersize=13,\n",
        "    linestyle=\"\",\n",
        "    label=\"Class 1\",\n",
        ")\n",
        "\n",
        "plt.plot([x1_min, x1_max], [x2_min, x2_max], color=\"k\")\n",
        "\n",
        "plt.legend(loc=2)\n",
        "\n",
        "plt.xlim([-5, 5])\n",
        "plt.ylim([-5, 5])\n",
        "\n",
        "plt.xlabel(\"Feature $x_1$\", fontsize=12)\n",
        "plt.ylabel(\"Feature $x_2$\", fontsize=12)\n",
        "\n",
        "plt.grid()\n",
        "plt.show()"
      ],
      "metadata": {
        "colab": {
          "base_uri": "https://localhost:8080/",
          "height": 455
        },
        "id": "oGeLexf1CVUT",
        "outputId": "adf3e324-75ac-491a-deb0-295e777b44eb"
      },
      "execution_count": 55,
      "outputs": [
        {
          "output_type": "display_data",
          "data": {
            "text/plain": [
              "<Figure size 640x480 with 1 Axes>"
            ],
            "image/png": "[encoded data removed]"
          },
          "metadata": {}
        }
      ]
    }
  ]
}